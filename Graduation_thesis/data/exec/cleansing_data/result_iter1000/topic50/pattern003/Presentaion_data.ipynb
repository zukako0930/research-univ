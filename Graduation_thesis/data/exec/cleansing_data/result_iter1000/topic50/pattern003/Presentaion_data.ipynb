{
 "cells": [
  {
   "cell_type": "markdown",
   "metadata": {},
   "source": [
    "## 面白そうなTopicのブランドとタグ(noisetagも)の比率を出す．\n",
    "### nctmのサンプリング終了後のprobの分布を図示できると面白い\n",
    "```\n",
    "◯topic5:キッズ\n",
    "topic12:結婚式・パーティ\n",
    "topic15:デニム\n",
    "◯topic16:大学生\n",
    "✖︎topic19:キッズ\n",
    "topic21:ストリート\n",
    "✖︎topic25:キッズ\n",
    "✖︎topic26:キッズ\n",
    "topic28:大人女子コーデ\n",
    "topic29:アメカジ・デニム\n",
    "◯topic30:ママコーデ\n",
    "topic32:ヴィンテージ・古着\n",
    "topic38:ギャル\n",
    "topic45:低身長女子\n",
    "topic46:ストリート\n",
    "◯topic48:スポーティ・ストリート\n",
    "\n",
    "```\n",
    "### やること\n",
    "- トピックごとにブランド・タグの出現回数を確率値に直す\n",
    "- dfをconcatしてto_csvによってcsvに書き出す "
   ]
  },
  {
   "cell_type": "code",
   "execution_count": 40,
   "metadata": {
    "collapsed": true
   },
   "outputs": [],
   "source": [
    "import pandas as pd\n",
    "def manage_df(brand_df,tag_df,noise_df):\n",
    "    brand_df['1']=brand_df['1']/brand_df['1'].sum()\n",
    "    tag_df['1']=tag_df['1']/tag_df['1'].sum()\n",
    "    noise_df['1']=noise_df['1']/noise_df['1'].sum()\n",
    "    brand_df=brand_df.rename(columns={'0':'brand','1':'P(b)'})\n",
    "    tag_df=tag_df.rename(columns={'0':'tag','1':'P(t)'})\n",
    "    noise_df=noise_df.rename(columns={'0':'noise','1':'P(n)'})"
   ]
  },
  {
   "cell_type": "code",
   "execution_count": 41,
   "metadata": {
    "collapsed": true
   },
   "outputs": [],
   "source": [
    "t5_b=pd.read_csv('topic05brands.csv')\n",
    "t5_t=pd.read_csv('topic05tags.csv')\n",
    "t5_nt=pd.read_csv('topic05noise_tags.csv')"
   ]
  },
  {
   "cell_type": "code",
   "execution_count": 42,
   "metadata": {
    "collapsed": false
   },
   "outputs": [],
   "source": [
    "manage_df(t5_b,t5_t,t5_nt)"
   ]
  },
  {
   "cell_type": "code",
   "execution_count": 45,
   "metadata": {
    "collapsed": false
   },
   "outputs": [],
   "source": [
    "t5_b.to_csv('./presen_csv/KidsTopicBrand.csv')\n",
    "t5_t.to_csv('./presen_csv/KidsTopicTag.csv')\n",
    "t5_nt.to_csv('./presen_csv/KidsTopicNoise.csv')"
   ]
  },
  {
   "cell_type": "code",
   "execution_count": 8,
   "metadata": {
    "collapsed": false
   },
   "outputs": [],
   "source": [
    "t16_b=pd.read_csv('topic16brands.csv')\n",
    "t16_t=pd.read_csv('topic16tags.csv')\n",
    "t16_nt=pd.read_csv('topic16noise_tags.csv')"
   ]
  },
  {
   "cell_type": "code",
   "execution_count": 46,
   "metadata": {
    "collapsed": false
   },
   "outputs": [],
   "source": [
    "manage_df(t16_b,t16_t,t16_nt)"
   ]
  },
  {
   "cell_type": "code",
   "execution_count": 47,
   "metadata": {
    "collapsed": true
   },
   "outputs": [],
   "source": [
    "t16_b.to_csv('./presen_csv/CollegeTopicBrand.csv')\n",
    "t16_t.to_csv('./presen_csv/CollegeTopicTag.csv')\n",
    "t16_nt.to_csv('./presen_csv/CollegeTopicNoise.csv')"
   ]
  },
  {
   "cell_type": "code",
   "execution_count": 10,
   "metadata": {
    "collapsed": true
   },
   "outputs": [],
   "source": [
    "t30_b=pd.read_csv('topic30brands.csv')\n",
    "t30_t=pd.read_csv('topic30tags.csv')\n",
    "t30_nt=pd.read_csv('topic30noise_tags.csv')"
   ]
  },
  {
   "cell_type": "code",
   "execution_count": 48,
   "metadata": {
    "collapsed": false
   },
   "outputs": [],
   "source": [
    "manage_df(t30_b,t30_t,t30_nt)"
   ]
  },
  {
   "cell_type": "code",
   "execution_count": 49,
   "metadata": {
    "collapsed": true
   },
   "outputs": [],
   "source": [
    "t30_b.to_csv('./presen_csv/MomTopicBrand.csv')\n",
    "t30_t.to_csv('./presen_csv/MomTopicTag.csv')\n",
    "t30_nt.to_csv('./presen_csv/MomTopicNoise.csv')"
   ]
  },
  {
   "cell_type": "code",
   "execution_count": 12,
   "metadata": {
    "collapsed": true
   },
   "outputs": [],
   "source": [
    "t48_b=pd.read_csv('topic48brands.csv')\n",
    "t48_t=pd.read_csv('topic48tags.csv')\n",
    "t48_nt=pd.read_csv('topic48noise_tags.csv')"
   ]
  },
  {
   "cell_type": "code",
   "execution_count": 50,
   "metadata": {
    "collapsed": false
   },
   "outputs": [],
   "source": [
    "manage_df(t48_b,t48_t,t48_b)"
   ]
  },
  {
   "cell_type": "code",
   "execution_count": 51,
   "metadata": {
    "collapsed": true
   },
   "outputs": [],
   "source": [
    "t48_b.to_csv('./presen_csv/SportystreetTopicBrand.csv')\n",
    "t48_t.to_csv('./presen_csv/SportystreetTopicTag.csv')\n",
    "t48_nt.to_csv('./presen_csv/SportystreetTopicNoise.csv')"
   ]
  },
  {
   "cell_type": "code",
   "execution_count": null,
   "metadata": {
    "collapsed": true
   },
   "outputs": [],
   "source": []
  }
 ],
 "metadata": {
  "kernelspec": {
   "display_name": "py35",
   "language": "python",
   "name": "py35"
  },
  "language_info": {
   "codemirror_mode": {
    "name": "ipython",
    "version": 3
   },
   "file_extension": ".py",
   "mimetype": "text/x-python",
   "name": "python",
   "nbconvert_exporter": "python",
   "pygments_lexer": "ipython3",
   "version": "3.5.3"
  }
 },
 "nbformat": 4,
 "nbformat_minor": 2
}
