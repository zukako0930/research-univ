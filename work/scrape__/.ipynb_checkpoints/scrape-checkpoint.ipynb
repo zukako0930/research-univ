{
 "cells": [
  {
   "cell_type": "code",
   "execution_count": 1,
   "metadata": {
    "collapsed": true
   },
   "outputs": [],
   "source": [
    "#coding:utf-8 \n",
    "from bs4 import BeautifulSoup #bs4モジュールからBeautifulSoupクラスをインポートする\n",
    "import requests\n",
    "import csv\n",
    "import scrapelib\n",
    "from urllib.request import urlopen"
   ]
  },
  {
   "cell_type": "code",
   "execution_count": 2,
   "metadata": {
    "collapsed": true
   },
   "outputs": [],
   "source": [
    "from ipywidgets import FloatProgress\n",
    "from IPython.display import display\n",
    "from time import sleep"
   ]
  },
  {
   "cell_type": "code",
   "execution_count": null,
   "metadata": {
    "collapsed": false
   },
   "outputs": [
    {
     "name": "stdout",
     "output_type": "stream",
     "text": [
      "9004626\n",
      "9004627\n",
      "9004628\n",
      "9004629\n",
      "9004630\n",
      "9004631\n",
      "9004632\n",
      "9004633\n",
      "9004634\n",
      "9004635\n",
      "9004636\n",
      "9004637\n",
      "9004638\n",
      "9004639\n",
      "9004640\n",
      "9004641\n",
      "9004642\n",
      "9004643\n",
      "9004644\n",
      "9004645\n",
      "9004646\n",
      "9004647\n",
      "9004648\n",
      "9004649\n",
      "9004650\n",
      "9004651\n",
      "9004652\n",
      "9004653\n",
      "9004655\n",
      "9004656\n",
      "9004657\n",
      "9004658\n",
      "9004659\n",
      "9004660\n",
      "9004661\n",
      "9004662\n",
      "9004663\n",
      "9004664\n",
      "9004666\n",
      "9004667\n",
      "9004668\n",
      "9004669\n"
     ]
    }
   ],
   "source": [
    "#全体をタグに関してまわす？\n",
    "#スパースになりすぎる？\n",
    "###男女で分けたほうがいいかも...男にスカート推薦してもな\n",
    "with open('brands.csv', 'wt',encoding='utf8') as fbrand:\n",
    "    with open('tags.csv','wt',encoding='utf8') as ftag:\n",
    "        with open('imgs.csv','wt',encoding='utf8') as fimg:\n",
    "            fp = FloatProgress(min=0, max=9962847-9004626+1)\n",
    "            display(fp)\n",
    "            writer_brand = csv.writer(fbrand, lineterminator='\\n')\n",
    "            writer_tag = csv.writer(ftag, lineterminator='\\n')\n",
    "            writer_img = csv.writer(fimg, lineterminator='\\n')\n",
    "            s = scrapelib.Scraper(requests_per_minute=80) #１分間に何回リクエストを投げるか\n",
    "            count=0 #データ数のカウント用\n",
    "            #for number in range(9004626,9162847):#コーディネートの指定10万件___ここ変えるならfp.valueも変える\n",
    "            for number in range(9004626,9962847):#コーディネートの指定\n",
    "                #----------------------------例外処理---------------------------------------------#\n",
    "                try: \n",
    "                    t=s.get('http://wear.jp/erierieri/'+str(number)+'/')\n",
    "                except: # 全て\n",
    "                    continue;\n",
    "                #--------------------------------------------------------------------------------#\n",
    "                soup2=BeautifulSoup(t.text,\"lxml\")\n",
    "                print(number) #今見てるページ\n",
    "                fp.value+=1\n",
    "                #-----------------------------カウント用のファイルを作る-------------------------------------#\n",
    "                if(fp.value % 10000==0):\n",
    "                    with open(str(fp.value)+'.csv','wt',encoding='utf8') as fcount:\n",
    "                        print(fp.value)\n",
    "                    #fcount.close()\n",
    "                #--------------------------------------------------------------------------------#\n",
    "                \n",
    "                #-------------------------------#404NotFoundの検出#------------------------------#\n",
    "                if(soup2.find(id='tag')==None): \n",
    "                    continue\n",
    "                if(soup2.find(id='item')==None): \n",
    "                    continue\n",
    "                if(soup2.find(id='coordinate_img')==None):\n",
    "                    continue\n",
    "                #--------------------------------------------------------------------------------#\n",
    "                brand_list=[]\n",
    "                tag_list=[]\n",
    "                prof_img_list=[]\n",
    "                #------------------------------#つかえるかもしれない#----------------------------#\n",
    "                #----------------#print(soup2.find_all(class_='link_list'))#---------------------#\n",
    "\n",
    "                #soup2.find(id='tag').select('a')\n",
    "                #------------------------------#ブランド情報の取得#------------------------------#\n",
    "                #print(soup2.find(id='item').select('.brand'))\n",
    "                for a in soup2.find(id='item').select('.brand > a'):\n",
    "                    brand_list.append(a.string)\n",
    "                #--------------------------------------------------------------------------------#\n",
    "                #----------------------------------#タグ情報の取得#------------------------------#\n",
    "                for a in soup2.find(id='tag').select('a'):\n",
    "                    tag_list.append(a.string)\n",
    "                #--------------------------------------------------------------------------------#\n",
    "                #--------------------------------#モデル情報の取得#------------------------------#\n",
    "                for a in soup2.select('.model_info > a'):\n",
    "                    attributes = [x.strip() for x in a.text.split('/')]\n",
    "                    #print(attributes)\n",
    "                #for attribute in attributes:\n",
    "                    #prof_img_list.append(attribute)\n",
    "                    prof_img_list.append(attributes[0])\n",
    "                    prof_img_list.append(attributes[1])\n",
    "                    prof_img_list.append(attributes[2])\n",
    "                #--------------------------------------------------------------------------------#\n",
    "                #----------------------------#コーディネート画像の取得#--------------------------#\n",
    "                img=soup2.find(id='coordinate_img').find(class_='img').find('img')\n",
    "                #print(img['src'])\n",
    "                img_url=img['src']\n",
    "                prof_img_list.append(img_url)\n",
    "                #--------------------------------------------------------------------------------#\n",
    "                #-------------------------------#各csvへの書き込み#------------------------------#\n",
    "                if len(brand_list)>=2 and len(tag_list)>=1and len(prof_img_list)==4:#3,4とかにするべき？\n",
    "                    writer_tag.writerow(tag_list)\n",
    "                    writer_brand.writerow(brand_list)\n",
    "                    writer_img.writerow(prof_img_list)\n",
    "#                     print(brand_list)\n",
    "#                     print(tag_list)\n",
    "#                     print(prof_img_list)\n",
    "                    count+=1;\n",
    "                #--------------------------------------------------------------------------------#\n",
    "        #fimg.close()\n",
    "    #ftag.close()\n",
    "#fbrand.close()\n",
    "\n",
    "print(\"データ数: \"+str(count))\n",
    "\n",
    "with open('end.csv', 'wt',encoding='utf8') as fend:\n",
    "    writer_end = csv.writer(fend, lineterminator='\\n')\n",
    "    writer_end.writerow(end)\n",
    "fend.close()"
   ]
  },
  {
   "cell_type": "code",
   "execution_count": null,
   "metadata": {
    "collapsed": true
   },
   "outputs": [],
   "source": []
  }
 ],
 "metadata": {
  "kernelspec": {
   "display_name": "zukapy",
   "language": "python",
   "name": "zukapy"
  },
  "language_info": {
   "codemirror_mode": {
    "name": "ipython",
    "version": 3
   },
   "file_extension": ".py",
   "mimetype": "text/x-python",
   "name": "python",
   "nbconvert_exporter": "python",
   "pygments_lexer": "ipython3",
   "version": "3.5.2"
  },
  "widgets": {
   "state": {
    "c280c3c74bcb43bdaa3e75735ca77d4b": {
     "views": [
      {
       "cell_index": 2
      }
     ]
    }
   },
   "version": "1.2.0"
  }
 },
 "nbformat": 4,
 "nbformat_minor": 2
}
