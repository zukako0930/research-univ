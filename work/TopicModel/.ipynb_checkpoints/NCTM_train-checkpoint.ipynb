{
 "cells": [
  {
   "cell_type": "code",
   "execution_count": null,
   "metadata": {
    "collapsed": true
   },
   "outputs": [],
   "source": [
    "#nctm.pyファイルからNCTM関数をインポート\n",
    "from nctm import NCTM"
   ]
  },
  {
   "cell_type": "code",
   "execution_count": null,
   "metadata": {
    "collapsed": true
   },
   "outputs": [],
   "source": [
    "#dictionary型に変換する関数\n",
    "def two_list_to_dict(key_list, val_list):\n",
    "      return dict(zip(key_list, val_list))\n",
    "    \n",
    "#ブランドの辞書作成\n",
    "with open('./data/brands.csv','r',encoding='utf8') as fbrand:\n",
    "    txt=fbrand.read() \n",
    "    lines = txt.split(\"\\n\")\n",
    "    Coordinate=[]\n",
    "    #重複のない辞書にするためにsetを用いる\n",
    "    s=set()\n",
    "    for line in lines:\n",
    "        brands=line.split(\",\")\n",
    "        Coordinate.append(brands)\n",
    "        for brand in brands:\n",
    "            s.add(brand)\n",
    "    brand1=list(s)\n",
    "    #print(len(brand1))\n",
    "#dictionaryのindex\n",
    "index=[]\n",
    "for i in range(len(brand1)):\n",
    "    index.append(i)\n",
    "#辞書\n",
    "brand_dict=two_list_to_dict(brand1,index)\n",
    "print(\"brand_dict 作成完了\")\n",
    "\n",
    "#タグの辞書作成\n",
    "#出現回数の少ないタグは無視していいかも\n",
    "with open('./data/tags.csv','r',encoding='utf8') as ftag:\n",
    "    txt=ftag.read() \n",
    "    lines = txt.split(\"\\n\")\n",
    "    tags_list=[]\n",
    "    #重複のない辞書にするためにsetを用いる\n",
    "    s=set()\n",
    "    for line in lines:\n",
    "        tags=line.split(\",\")\n",
    "        tags_list.append(tags)\n",
    "        for tag in tags:\n",
    "            s.add(tag)\n",
    "    alltags=list(s)\n",
    "    print(len(alltags))\n",
    "#dictionaryのindex用\n",
    "index=[]\n",
    "for i in range(len(alltags)):\n",
    "    index.append(i)\n",
    "#辞書作成\n",
    "tag_dict=two_list_to_dict(alltags,index)\n",
    "print(\"tag_dict 作成完了\")"
   ]
  },
  {
   "cell_type": "code",
   "execution_count": null,
   "metadata": {
    "collapsed": true
   },
   "outputs": [],
   "source": [
    "#実際に文書におけるブランドを辞書番号の組みに変換\n",
    "with open('./data/brands.csv','r',encoding='utf8') as fbrand:\n",
    "    txt=fbrand.read() \n",
    "    lines = txt.split(\"\\n\")\n",
    "    Coordinates=[]\n",
    "    for line in lines:\n",
    "        brands=line.split(\",\")\n",
    "        Coordinates.append(brands)\n",
    "W = [] # words\n",
    "#ブランドの文書ごとのリストを作る\n",
    "for Coordinate in Coordinates:\n",
    "    #list()をつけない場合iterator objectが帰ってくる\n",
    "    W.append(list(map(lambda v:brand_dict[v],Coordinate)))\n",
    "print(\"各文書のブランドを辞書番号に変換しました\")\n",
    "    \n",
    "#実際に文書におけるタグを辞書番号の組みに変換\n",
    "with open('./data/tags.csv','r',encoding='utf8') as fbrand:\n",
    "    txt=fbrand.read() \n",
    "    lines = txt.split(\"\\n\")\n",
    "    tags_list=[]\n",
    "    for line in lines:\n",
    "        tags=line.split(\",\")\n",
    "        tags_list.append(tags)\n",
    "X = [] # tags\n",
    "#補助情報の文書ごとのリストを作る\n",
    "for tags in tags_list:\n",
    "    #list()をつけない場合iterator objectが帰ってくる\n",
    "    X.append(list(map(lambda c:tag_dict[c],tags)))\n",
    "print(\"各文書の補助情報を辞書番号に変換しました\")"
   ]
  },
  {
   "cell_type": "markdown",
   "metadata": {},
   "source": [
    "## モデルの定義"
   ]
  },
  {
   "cell_type": "code",
   "execution_count": null,
   "metadata": {
    "collapsed": true
   },
   "outputs": [],
   "source": [
    "# モデル定義\n",
    "Vw = len(W)\n",
    "Vx = len(X)\n",
    "K = 50\n",
    "alpha = 0.1\n",
    "beta= 0.1\n",
    "gamma= 0.1\n",
    "eta = 1.0\n",
    "max_iter = 100\n",
    "nctm = NCTM(K=K, alpha=alpha, beta=beta, gamma=gamma, eta=eta, max_iter=max_iter)"
   ]
  },
  {
   "cell_type": "code",
   "execution_count": null,
   "metadata": {
    "collapsed": true
   },
   "outputs": [],
   "source": [
    "# NCTM のフィッティング\n",
    "nctm.fit(W,X,Vw,Vx)\n",
    "print(\"学習完了\")\n",
    "print(\"トピック変数:nctm.Z\")\n",
    "print(\"補助情報：nctm.Y\")"
   ]
  },
  {
   "cell_type": "code",
   "execution_count": null,
   "metadata": {
    "collapsed": true
   },
   "outputs": [],
   "source": []
  }
 ],
 "metadata": {
  "kernelspec": {
   "display_name": "zukapy",
   "language": "python",
   "name": "zukapy"
  },
  "language_info": {
   "codemirror_mode": {
    "name": "ipython",
    "version": 3
   },
   "file_extension": ".py",
   "mimetype": "text/x-python",
   "name": "python",
   "nbconvert_exporter": "python",
   "pygments_lexer": "ipython3",
   "version": "3.5.2"
  }
 },
 "nbformat": 4,
 "nbformat_minor": 2
}
