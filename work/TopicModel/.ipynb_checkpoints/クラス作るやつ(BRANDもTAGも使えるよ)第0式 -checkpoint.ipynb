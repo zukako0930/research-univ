{
 "cells": [
  {
   "cell_type": "markdown",
   "metadata": {},
   "source": [
    "# クラスを作る\n",
    "## 変数名とか調整してBRANDとTAGの両方で使いやすいようにするぞ"
   ]
  },
  {
   "cell_type": "code",
   "execution_count": null,
   "metadata": {
    "collapsed": true
   },
   "outputs": [],
   "source": [
    "class brand:\n",
    "    def __init__(self,filename):\n",
    "        self.filename=filename\n",
    "        self.lines=self.read_file(filename)\n",
    "        self.Coordinates=self.make_Coordinate()\n",
    "        self.brandset=self.make_brandset()\n",
    "        self.brand_dict=self.make_dict()\n",
    "        \n",
    "    \n",
    "    def read_file(self,filename):\n",
    "        with open('./data/'+str(filename),'r',encoding='utf8') as fbrand:\n",
    "            txt=fbrand.read() \n",
    "            lines = txt.split(\"\\n\")\n",
    "            return lines\n",
    "        \n",
    "    def make_Coordinate(self):\n",
    "        Coordinate=[]\n",
    "        #重複のない辞書にするためにsetを用いる\n",
    "        s=set()\n",
    "        for line in lines:\n",
    "            brands=line.split(\",\")\n",
    "            Coordinate.append(brands)\n",
    "        return Coordinate\n",
    "    \n",
    "    def make_brandset(self):\n",
    "        #重複のない辞書にするためにsetを用いる\n",
    "            s=set()\n",
    "            for line in self.lines:\n",
    "                brands=line.split(\",\")\n",
    "                Coordinate.append(brands)\n",
    "                for brand in brands:\n",
    "                    s.add(brand)\n",
    "            brand_set=list(s)\n",
    "            print(len(brand1))\n",
    "            return brand_set\n",
    "        \n",
    "    \n",
    "    def make_dict(self):\n",
    "        #dictionaryのindex\n",
    "        index=[]\n",
    "        for i in range(len(self.brandset)):\n",
    "            index.append(i)\n",
    "        #辞書\n",
    "        brand_dict=self.two_list_to_dict(self.brandset,index)\n",
    "        return brand_dict\n",
    "    \n",
    "    def brand_to_dictnum(self):\n",
    "        W = [] # words\n",
    "    #ブランドと補助情報の文書ごとのリストを作る\n",
    "        for Coordinate in self.Coordinates:\n",
    "        #list()をつけない場合iterator objectが帰ってくる\n",
    "        W.append(list(map(lambda v:self.brand_dict[v],Coordinate)))\n",
    "        return W\n",
    "    \n",
    "    #dictionary型に変換する関数\n",
    "    def two_list_to_dict(self,key_list, val_list):\n",
    "          return dict(zip(key_list, val_list))"
   ]
  }
 ],
 "metadata": {
  "kernelspec": {
   "display_name": "zukapy",
   "language": "python",
   "name": "zukapy"
  },
  "language_info": {
   "codemirror_mode": {
    "name": "ipython",
    "version": 3
   },
   "file_extension": ".py",
   "mimetype": "text/x-python",
   "name": "python",
   "nbconvert_exporter": "python",
   "pygments_lexer": "ipython3",
   "version": "3.5.2"
  }
 },
 "nbformat": 4,
 "nbformat_minor": 2
}
