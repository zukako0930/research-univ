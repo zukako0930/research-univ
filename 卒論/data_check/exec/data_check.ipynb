{
 "cells": [
  {
   "cell_type": "code",
   "execution_count": 1,
   "metadata": {
    "collapsed": true
   },
   "outputs": [],
   "source": [
    "import pandas as pd"
   ]
  },
  {
   "cell_type": "code",
   "execution_count": 25,
   "metadata": {},
   "outputs": [],
   "source": [
    "with open('brands.csv','r',encoding='utf8') as f:\n",
    "    txt=f.read()\n",
    "    lines=txt.split('\\n')"
   ]
  },
  {
   "cell_type": "code",
   "execution_count": 6,
   "metadata": {},
   "outputs": [
    {
     "name": "stdout",
     "output_type": "stream",
     "text": [
      "mystic,who's who Chico,who's who Chico\n",
      "LOWRYS FARM,niko and...,ehka sopo,CONVERSE\n",
      "GU,WEGO,WEGO,WEGO,CONVERSE\n",
      "RETRO GIRL,Amavel,MAJESTIC LEGON,tutuanna\n",
      "THE SHINZONE,THE SHINZONE,CISOLASSE\n",
      "AVALANCHE,AVALANCHE\n",
      "merry jenny,natural couture,179/WG NICOLE CLUB\n",
      "ZARA,TODAYFUL,ZARA,ZARA,Italia Independent\n",
      "Buzz Rickson's,VINTAGE,LACOSTE,ユニクロ,ユニクロ\n",
      "Dickies,Champion,AVIREX\n"
     ]
    }
   ],
   "source": [
    "brands=[]\n",
    "for i in range(10):\n",
    "    print(lines[i])\n",
    "    brands.append(lines[i])"
   ]
  },
  {
   "cell_type": "code",
   "execution_count": 26,
   "metadata": {
    "collapsed": true
   },
   "outputs": [],
   "source": [
    "import csv\n",
    "tags_listlist=[]\n",
    "with open('ex_brand.csv','w',encoding='utf8') as f:\n",
    "    writer = csv.writer(f, lineterminator='\\n')\n",
    "    for i,line in enumerate(lines):\n",
    "        tags=line.split(',')\n",
    "        writer.writerow(tags)\n",
    "        tags_listlist.append(tags)\n",
    "        if(i==9):\n",
    "            break"
   ]
  },
  {
   "cell_type": "code",
   "execution_count": 13,
   "metadata": {
    "collapsed": true
   },
   "outputs": [],
   "source": [
    "with open('tags.csv','r',encoding='utf8') as f:\n",
    "    txt=f.read()\n",
    "    lines=txt.split('\\n')"
   ]
  },
  {
   "cell_type": "code",
   "execution_count": 24,
   "metadata": {},
   "outputs": [],
   "source": [
    "import csv\n",
    "tags_listlist=[]\n",
    "with open('ex_tag.csv','w',encoding='utf8') as f:\n",
    "    writer = csv.writer(f, lineterminator='\\n')\n",
    "    for i,line in enumerate(lines):\n",
    "        tags=line.split(',')\n",
    "        writer.writerow(tags)\n",
    "        tags_listlist.append(tags)\n",
    "        if(i==9):\n",
    "            break"
   ]
  },
  {
   "cell_type": "code",
   "execution_count": 21,
   "metadata": {
    "collapsed": true
   },
   "outputs": [
    {
     "data": {
      "text/html": [
       "<div>\n",
       "<table border=\"1\" class=\"dataframe\">\n",
       "  <thead>\n",
       "    <tr style=\"text-align: right;\">\n",
       "      <th></th>\n",
       "      <th>0</th>\n",
       "      <th>1</th>\n",
       "      <th>2</th>\n",
       "      <th>3</th>\n",
       "      <th>4</th>\n",
       "      <th>5</th>\n",
       "      <th>6</th>\n",
       "      <th>7</th>\n",
       "      <th>8</th>\n",
       "      <th>9</th>\n",
       "    </tr>\n",
       "  </thead>\n",
       "  <tbody>\n",
       "    <tr>\n",
       "      <th>0</th>\n",
       "      <td>who's who chico</td>\n",
       "      <td>シンプル</td>\n",
       "      <td>変形スカート</td>\n",
       "      <td>フレアスカート</td>\n",
       "      <td>ニットスカート</td>\n",
       "      <td>None</td>\n",
       "      <td>None</td>\n",
       "      <td>None</td>\n",
       "      <td>None</td>\n",
       "      <td>None</td>\n",
       "    </tr>\n",
       "    <tr>\n",
       "      <th>1</th>\n",
       "      <td>シンプル</td>\n",
       "      <td>スニーカー</td>\n",
       "      <td>タートルネックニット</td>\n",
       "      <td>ロシアン帽</td>\n",
       "      <td>merフレンズ</td>\n",
       "      <td>青文字系</td>\n",
       "      <td>ニコアンド</td>\n",
       "      <td>エヘカソポ</td>\n",
       "      <td>コンバース</td>\n",
       "      <td>冬</td>\n",
       "    </tr>\n",
       "    <tr>\n",
       "      <th>2</th>\n",
       "      <td>WEGO</td>\n",
       "      <td>出勤コーデ</td>\n",
       "      <td>ヘアバンド</td>\n",
       "      <td>お団子ヘアー</td>\n",
       "      <td>レーストップス</td>\n",
       "      <td>カーディガン</td>\n",
       "      <td>リボン</td>\n",
       "      <td>コンバース</td>\n",
       "      <td>GU</td>\n",
       "      <td>None</td>\n",
       "    </tr>\n",
       "    <tr>\n",
       "      <th>3</th>\n",
       "      <td>冬</td>\n",
       "      <td>ワンピース</td>\n",
       "      <td>編み上げスカート</td>\n",
       "      <td>白ニット</td>\n",
       "      <td>ダッフルコート</td>\n",
       "      <td>コート ネイビー</td>\n",
       "      <td>ミニスカート</td>\n",
       "      <td>ヘアバンド</td>\n",
       "      <td>内巻き</td>\n",
       "      <td>ボブアレンジ</td>\n",
       "    </tr>\n",
       "    <tr>\n",
       "      <th>4</th>\n",
       "      <td>結婚式</td>\n",
       "      <td>パーティースタイル</td>\n",
       "      <td>オケージョン</td>\n",
       "      <td>ジャンプスーツ</td>\n",
       "      <td>オールインワン</td>\n",
       "      <td>サロペット</td>\n",
       "      <td>ダウンジャケット</td>\n",
       "      <td>ネックレス</td>\n",
       "      <td>きれいめカジュアル</td>\n",
       "      <td>None</td>\n",
       "    </tr>\n",
       "    <tr>\n",
       "      <th>5</th>\n",
       "      <td>きれいめカジュアル</td>\n",
       "      <td>カジュアル</td>\n",
       "      <td>ホワイト</td>\n",
       "      <td>ベージュ</td>\n",
       "      <td>カットオフ</td>\n",
       "      <td>キャップ</td>\n",
       "      <td>ストリート</td>\n",
       "      <td>スウェット</td>\n",
       "      <td>ローキャップ</td>\n",
       "      <td>ラフ</td>\n",
       "    </tr>\n",
       "    <tr>\n",
       "      <th>6</th>\n",
       "      <td>アウター</td>\n",
       "      <td>ピンク</td>\n",
       "      <td>ノーカラーコート</td>\n",
       "      <td>シャギー</td>\n",
       "      <td>ワイドスリーブ</td>\n",
       "      <td>コーデュロイ</td>\n",
       "      <td>ニット</td>\n",
       "      <td>None</td>\n",
       "      <td>None</td>\n",
       "      <td>None</td>\n",
       "    </tr>\n",
       "    <tr>\n",
       "      <th>7</th>\n",
       "      <td>ダメージデニムパンツ</td>\n",
       "      <td>レオパード</td>\n",
       "      <td>ショートブーツ</td>\n",
       "      <td>Doシンプル部</td>\n",
       "      <td>いい友連合</td>\n",
       "      <td>ロングカーディガン</td>\n",
       "      <td>オトナカジュアル</td>\n",
       "      <td>きれいめカジュアル</td>\n",
       "      <td>お団子ヘアー</td>\n",
       "      <td>ダメージデニム</td>\n",
       "    </tr>\n",
       "    <tr>\n",
       "      <th>8</th>\n",
       "      <td>ミリタリー</td>\n",
       "      <td>ミリタリージャケット</td>\n",
       "      <td>フライトジャケット</td>\n",
       "      <td>Buzz Rickson</td>\n",
       "      <td>黒スキニー</td>\n",
       "      <td>ユニクロ</td>\n",
       "      <td>ドレスシューズ</td>\n",
       "      <td>白ソックス</td>\n",
       "      <td>冬</td>\n",
       "      <td>None</td>\n",
       "    </tr>\n",
       "    <tr>\n",
       "      <th>9</th>\n",
       "      <td>シンプル</td>\n",
       "      <td>ダル着</td>\n",
       "      <td>チャンピオン</td>\n",
       "      <td>AVIREX</td>\n",
       "      <td>ディッキーズ(Dickies)</td>\n",
       "      <td>ちょっとそこまで</td>\n",
       "      <td>None</td>\n",
       "      <td>None</td>\n",
       "      <td>None</td>\n",
       "      <td>None</td>\n",
       "    </tr>\n",
       "  </tbody>\n",
       "</table>\n",
       "</div>"
      ],
      "text/plain": [
       "                 0           1           2             3                4  \\\n",
       "0  who's who chico        シンプル      変形スカート       フレアスカート          ニットスカート   \n",
       "1             シンプル       スニーカー  タートルネックニット         ロシアン帽          merフレンズ   \n",
       "2             WEGO       出勤コーデ       ヘアバンド        お団子ヘアー          レーストップス   \n",
       "3                冬       ワンピース    編み上げスカート          白ニット          ダッフルコート   \n",
       "4              結婚式   パーティースタイル      オケージョン       ジャンプスーツ          オールインワン   \n",
       "5        きれいめカジュアル       カジュアル        ホワイト          ベージュ            カットオフ   \n",
       "6             アウター         ピンク    ノーカラーコート          シャギー          ワイドスリーブ   \n",
       "7       ダメージデニムパンツ       レオパード     ショートブーツ       Doシンプル部            いい友連合   \n",
       "8            ミリタリー  ミリタリージャケット   フライトジャケット  Buzz Rickson            黒スキニー   \n",
       "9             シンプル         ダル着      チャンピオン        AVIREX  ディッキーズ(Dickies)   \n",
       "\n",
       "           5         6          7          8        9  \n",
       "0       None      None       None       None     None  \n",
       "1       青文字系     ニコアンド      エヘカソポ      コンバース        冬  \n",
       "2     カーディガン       リボン      コンバース         GU     None  \n",
       "3   コート ネイビー    ミニスカート      ヘアバンド        内巻き   ボブアレンジ  \n",
       "4      サロペット  ダウンジャケット      ネックレス  きれいめカジュアル     None  \n",
       "5       キャップ     ストリート      スウェット     ローキャップ       ラフ  \n",
       "6     コーデュロイ       ニット       None       None     None  \n",
       "7  ロングカーディガン  オトナカジュアル  きれいめカジュアル     お団子ヘアー  ダメージデニム  \n",
       "8       ユニクロ   ドレスシューズ      白ソックス          冬     None  \n",
       "9   ちょっとそこまで      None       None       None     None  "
      ]
     },
     "execution_count": 21,
     "metadata": {},
     "output_type": "execute_result"
    }
   ],
   "source": [
    "pd.DataFrame(tags_listlist)"
   ]
  },
  {
   "cell_type": "code",
   "execution_count": 22,
   "metadata": {},
   "outputs": [
    {
     "name": "stdout",
     "output_type": "stream",
     "text": [
      "who's who chico,シンプル,変形スカート,フレアスカート,ニットスカート\n",
      "シンプル,スニーカー,タートルネックニット,ロシアン帽,merフレンズ,青文字系,ニコアンド,エヘカソポ,コンバース,冬\n",
      "WEGO,出勤コーデ,ヘアバンド,お団子ヘアー,レーストップス,カーディガン,リボン,コンバース,GU\n",
      "冬,ワンピース,編み上げスカート,白ニット,ダッフルコート,コート ネイビー,ミニスカート,ヘアバンド,内巻き,ボブアレンジ\n",
      "結婚式,パーティースタイル,オケージョン,ジャンプスーツ,オールインワン,サロペット,ダウンジャケット,ネックレス,きれいめカジュアル\n",
      "きれいめカジュアル,カジュアル,ホワイト,ベージュ,カットオフ,キャップ,ストリート,スウェット,ローキャップ,ラフ\n",
      "アウター,ピンク,ノーカラーコート,シャギー,ワイドスリーブ,コーデュロイ,ニット\n",
      "ダメージデニムパンツ,レオパード,ショートブーツ,Doシンプル部,いい友連合,ロングカーディガン,オトナカジュアル,きれいめカジュアル,お団子ヘアー,ダメージデニム\n",
      "ミリタリー,ミリタリージャケット,フライトジャケット,Buzz Rickson,黒スキニー,ユニクロ,ドレスシューズ,白ソックス,冬\n",
      "シンプル,ダル着,チャンピオン,AVIREX,ディッキーズ(Dickies),ちょっとそこまで\n"
     ]
    }
   ],
   "source": [
    "for i in range(10):\n",
    "    print(lines[i])"
   ]
  },
  {
   "cell_type": "code",
   "execution_count": null,
   "metadata": {
    "collapsed": true
   },
   "outputs": [],
   "source": []
  }
 ],
 "metadata": {
  "kernelspec": {
   "display_name": "zukako",
   "language": "python",
   "name": "zukako"
  },
  "language_info": {
   "codemirror_mode": {
    "name": "ipython",
    "version": 3
   },
   "file_extension": ".py",
   "mimetype": "text/x-python",
   "name": "python",
   "nbconvert_exporter": "python",
   "pygments_lexer": "ipython3",
   "version": "3.5.2"
  }
 },
 "nbformat": 4,
 "nbformat_minor": 2
}
