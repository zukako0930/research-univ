{
 "cells": [
  {
   "cell_type": "code",
   "execution_count": 1,
   "metadata": {
    "collapsed": true
   },
   "outputs": [],
   "source": [
    "import os \n",
    "dirs=os.listdir()"
   ]
  },
  {
   "cell_type": "code",
   "execution_count": 2,
   "metadata": {},
   "outputs": [
    {
     "data": {
      "text/plain": [
       "['hyper-param',\n",
       " 'topic10',\n",
       " 'topic200',\n",
       " 'topic400',\n",
       " 'topic120',\n",
       " 'perp_topic.ipynb',\n",
       " 'topic80',\n",
       " 'topic130',\n",
       " 'topic300',\n",
       " 'topic100',\n",
       " 'topic30',\n",
       " 'topic50',\n",
       " 'topic60',\n",
       " 'topic90',\n",
       " 'Untitled Folder',\n",
       " 'topic70',\n",
       " '.ipynb_checkpoints',\n",
       " 'topic150',\n",
       " 'data_to_TEX.ipynb',\n",
       " 'topic20',\n",
       " 'topic40',\n",
       " 'topic140',\n",
       " 'topic110']"
      ]
     },
     "execution_count": 2,
     "metadata": {},
     "output_type": "execute_result"
    }
   ],
   "source": [
    "dirs"
   ]
  },
  {
   "cell_type": "code",
   "execution_count": null,
   "metadata": {
    "collapsed": true
   },
   "outputs": [],
   "source": []
  }
 ],
 "metadata": {
  "kernelspec": {
   "display_name": "Python 3",
   "language": "python",
   "name": "python3"
  },
  "language_info": {
   "codemirror_mode": {
    "name": "ipython",
    "version": 3
   },
   "file_extension": ".py",
   "mimetype": "text/x-python",
   "name": "python",
   "nbconvert_exporter": "python",
   "pygments_lexer": "ipython3",
   "version": "3.6.1"
  }
 },
 "nbformat": 4,
 "nbformat_minor": 2
}
