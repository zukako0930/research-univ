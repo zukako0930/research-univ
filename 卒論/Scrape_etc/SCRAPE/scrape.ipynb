{
 "cells": [
  {
   "cell_type": "code",
   "execution_count": 1,
   "metadata": {
    "collapsed": true
   },
   "outputs": [],
   "source": [
    "#coding:utf-8 \n",
    "from bs4 import BeautifulSoup #bs4モジュールからBeautifulSoupクラスをインポートする\n",
    "import requests\n",
    "import csv\n",
    "import scrapelib\n",
    "from urllib.request import urlopen"
   ]
  },
  {
   "cell_type": "code",
   "execution_count": 2,
   "metadata": {
    "collapsed": true
   },
   "outputs": [],
   "source": [
    "from ipywidgets import FloatProgress\n",
    "from IPython.display import display\n",
    "from time import sleep"
   ]
  },
  {
   "cell_type": "code",
   "execution_count": null,
   "metadata": {},
   "outputs": [
    {
     "name": "stderr",
     "output_type": "stream",
     "text": [
      "The installed widget Javascript is the wrong version.\n"
     ]
    }
   ],
   "source": [
    "#全体をタグに関してまわす？\n",
    "#スパースになりすぎる？\n",
    "###男女で分けたほうがいいかも...男にスカート推薦してもな\n",
    "with open('brands.csv', 'wt',encoding='utf8') as fbrand:\n",
    "    with open('tags.csv','wt',encoding='utf8') as ftag:\n",
    "        with open('imgs.csv','wt',encoding='utf8') as fimg:\n",
    "            fp = FloatProgress(min=0, max=10398956-8604629+1)\n",
    "            display(fp)\n",
    "            writer_brand = csv.writer(fbrand, lineterminator='\\n')\n",
    "            writer_tag = csv.writer(ftag, lineterminator='\\n')\n",
    "            writer_img = csv.writer(fimg, lineterminator='\\n')\n",
    "            s = scrapelib.Scraper(requests_per_minute=80) #１分間に何回リクエストを投げるか\n",
    "            brand_list_list=[]\n",
    "            tag_list_list=[]\n",
    "            others_list_list=[]\n",
    "            count=0 #データ数のカウント用\n",
    "            for number in range(8604629,10398956):#コーディネートの指定10万件___ここ変えるならfp.valueも変える\n",
    "            #for number in range(9004626,9562847):#コーディネートの指定\n",
    "                #----------------------------例外処理---------------------------------------------#\n",
    "                try: \n",
    "                    t=s.get('http://wear.jp/erierieri/'+str(number)+'/')\n",
    "                except: # 全て\n",
    "                    continue;\n",
    "                #--------------------------------------------------------------------------------#\n",
    "                soup2=BeautifulSoup(t.text,\"lxml\")\n",
    "                #print(number) #今見てるページ\n",
    "                fp.value+=1\n",
    "                #-----------------------------カウント用のファイルを作る-------------------------------------#\n",
    "                if(fp.value % 10000==0):\n",
    "                    with open('./data/process'+str(fp.value)+'.csv','wt',encoding='utf8') as fcount:\n",
    "                        print(fp.value)\n",
    "                    #fcount.close()\n",
    "                #--------------------------------------------------------------------------------#\n",
    "                #-------------------------------#404NotFoundの検出#------------------------------#\n",
    "                if(soup2.find(id='tag')==None): \n",
    "                    continue\n",
    "                if(soup2.find(id='item')==None): \n",
    "                    continue\n",
    "                if(soup2.find(id='coordinate_img')==None):\n",
    "                    continue\n",
    "                #--------------------------------------------------------------------------------#\n",
    "                brand_list=[]\n",
    "                tag_list=[]\n",
    "                prof_img_list=[]\n",
    "                #------------------------------#つかえるかもしれない#----------------------------#\n",
    "                #----------------#print(soup2.find_all(class_='link_list'))#---------------------#\n",
    "\n",
    "                #soup2.find(id='tag').select('a')\n",
    "                #------------------------------#ブランド情報の取得#------------------------------#\n",
    "                #print(soup2.find(id='item').select('.brand'))\n",
    "                for a in soup2.find(id='item').select('.brand > a'):\n",
    "                    brand_list.append(a.string)\n",
    "                #--------------------------------------------------------------------------------#\n",
    "                #----------------------------------#タグ情報の取得#------------------------------#\n",
    "                for a in soup2.find(id='tag').select('a'):\n",
    "                    tag_list.append(a.string)\n",
    "                #--------------------------------------------------------------------------------#\n",
    "                #--------------------------------#モデル情報の取得#------------------------------#\n",
    "                for a in soup2.select('.model_info > a'):\n",
    "                    attributes = [x.strip() for x in a.text.split('/')]\n",
    "                    #print(attributes)\n",
    "                #for attribute in attributes:\n",
    "                    #prof_img_list.append(attribute)\n",
    "                    prof_img_list.append(attributes[0])\n",
    "                    prof_img_list.append(attributes[1])\n",
    "                    prof_img_list.append(attributes[2])\n",
    "                #--------------------------------------------------------------------------------#\n",
    "                #----------------------------#コーディネート画像の取得#--------------------------#\n",
    "                img=soup2.find(id='coordinate_img').find(class_='img').find('img')\n",
    "                #print(img['src'])\n",
    "                img_url=img['src']\n",
    "                prof_img_list.append(img_url)\n",
    "                #--------------------------------------------------------------------------------#\n",
    "                #-------------------------------#各csvへの書き込み#------------------------------#\n",
    "                if len(brand_list)>=2 and len(tag_list)>=1and len(prof_img_list)==4:#3,4とかにするべき？\n",
    "                    writer_tag.writerow(tag_list)\n",
    "                    writer_brand.writerow(brand_list)\n",
    "                    writer_img.writerow(prof_img_list)\n",
    "                    brand_list_list.append(brand_list)\n",
    "                    tag_list_list.append(tag_list)\n",
    "                    others_list_list.append(prof_img_list)\n",
    "#                     print(brand_list)\n",
    "#                     print(tag_list)\n",
    "#                     print(prof_img_list)\n",
    "                    count+=1;\n",
    "    \n",
    "                if(count % 10000==0): #1万回ごとにファイルを積み重ねていく\n",
    "                    with open('./data/process/brand/'+str(count)+'.csv','wt',encoding='utf8') as fprocess_brand:\n",
    "                        writer_process_brand = csv.writer(fprocess_brand, lineterminator='\\n')\n",
    "                        for bl in brand_list_list:\n",
    "                            writer_process_brand.writerow(bl)\n",
    "                    with open('./data/process/tag/'+str(count)+'.csv','wt',encoding='utf8') as fprocess_tag:\n",
    "                        writer_process_tag = csv.writer(fprocess_tag, lineterminator='\\n')\n",
    "                        for t in tag_list_list:\n",
    "                            writer_process_tag.writerow(t)\n",
    "                    with open('./data/process/others/'+str(count)+'.csv','wt',encoding='utf8') as fprocess_others:\n",
    "                        writer_process_others = csv.writer(fprocess_others, lineterminator='\\n')\n",
    "                        for o in others_list_list:\n",
    "                            writer_process_others.writerow(o)                      \n",
    "                #--------------------------------------------------------------------------------#\n",
    "        #fimg.close()\n",
    "    #ftag.close()\n",
    "#fbrand.close()\n",
    "\n",
    "print(\"データ数: \"+str(count))\n",
    "\n",
    "with open('end.csv', 'wt',encoding='utf8') as fend:\n",
    "    writer_end = csv.writer(fend, lineterminator='\\n')\n",
    "    writer_end.writerow(end)\n",
    "fend.close()"
   ]
  },
  {
   "cell_type": "code",
   "execution_count": null,
   "metadata": {
    "collapsed": true
   },
   "outputs": [],
   "source": []
  }
 ],
 "metadata": {
  "kernelspec": {
   "display_name": "zukako",
   "language": "python",
   "name": "zukako"
  },
  "language_info": {
   "codemirror_mode": {
    "name": "ipython",
    "version": 3
   },
   "file_extension": ".py",
   "mimetype": "text/x-python",
   "name": "python",
   "nbconvert_exporter": "python",
   "pygments_lexer": "ipython3",
   "version": "3.5.2"
  },
  "widgets": {
   "state": {
    "65152957edc24fd68b17ae76e8744235": {
     "views": [
      {
       "cell_index": 2
      }
     ]
    }
   },
   "version": "1.2.0"
  }
 },
 "nbformat": 4,
 "nbformat_minor": 2
}
