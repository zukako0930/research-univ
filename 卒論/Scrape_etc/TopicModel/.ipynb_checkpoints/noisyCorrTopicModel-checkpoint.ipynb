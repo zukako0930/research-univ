{
 "cells": [
  {
   "cell_type": "code",
   "execution_count": 11,
   "metadata": {
    "collapsed": false
   },
   "outputs": [],
   "source": [
    "#nctm.pyファイルからNCTM関数をインポート\n",
    "from nctm import NCTM"
   ]
  },
  {
   "cell_type": "code",
   "execution_count": 12,
   "metadata": {
    "collapsed": false
   },
   "outputs": [],
   "source": [
    "# データ生成\n",
    "vocab = {'computer':0, 'banana':1, 'ipad':2, 'orange':3, 'apple':4}\n",
    "categories = {'FOODS':0, 'TECH':1, 'TOREAD':2}\n",
    "\n",
    "Vw = len(vocab)\n",
    "Vx = len(categories)\n",
    "\n",
    "W = [] # words\n",
    "X = [] # categories\n",
    "\n",
    "#lambda v:vocab[v]が第一引数, それをmap関数により['computer','ipad','apple']に順番に適用\n",
    "#vにはvocabのindexが返される\n",
    "W.append(map(lambda v:vocab[v], ['computer', 'ipad', 'apple']))\n",
    "X.append(map(lambda c:categories[c], ['TECH', 'TOREAD']))\n",
    "W.append(map(lambda v:vocab[v], ['ipad', 'ipad']))\n",
    "X.append(map(lambda c:categories[c], ['TECH', 'TOREAD']))\n",
    "W.append(map(lambda v:vocab[v], ['ipad', 'ipad', 'apple', 'apple']))\n",
    "X.append(map(lambda c:categories[c], ['TOREAD']))\n",
    "W.append(map(lambda v:vocab[v], ['banana', 'orange', 'apple']))\n",
    "X.append(map(lambda c:categories[c], ['FOODS', 'TOREAD']))\n",
    "W.append(map(lambda v:vocab[v], ['banana', 'orange']))\n",
    "X.append(map(lambda c:categories[c], ['FOODS']))"
   ]
  },
  {
   "cell_type": "code",
   "execution_count": 13,
   "metadata": {
    "collapsed": false
   },
   "outputs": [
    {
     "name": "stdout",
     "output_type": "stream",
     "text": [
      "[[0, 2, 4], [2, 2], [2, 2, 4, 4], [1, 3, 4], [1, 3]]\n",
      "[[1, 2], [1, 2], [2], [0, 2], [0]]\n"
     ]
    }
   ],
   "source": [
    "print(W)\n",
    "print(X)"
   ]
  },
  {
   "cell_type": "code",
   "execution_count": 14,
   "metadata": {
    "collapsed": false
   },
   "outputs": [],
   "source": [
    "# モデル定義\n",
    "K = 2\n",
    "alpha = 0.1\n",
    "beta= 0.1\n",
    "gamma= 0.1\n",
    "eta = 1.0\n",
    "max_iter = 100\n",
    "nctm = NCTM(K=K, alpha=alpha, beta=beta, gamma=gamma, eta=eta, max_iter=max_iter)"
   ]
  },
  {
   "cell_type": "code",
   "execution_count": 15,
   "metadata": {
    "collapsed": false
   },
   "outputs": [
    {
     "data": {
      "text/plain": [
       "<nctm.NCTM instance at 0x116f06bd8>"
      ]
     },
     "execution_count": 15,
     "metadata": {},
     "output_type": "execute_result"
    }
   ],
   "source": [
    "# NCTM のフィッティング\n",
    "nctm.fit(W,X,Vw,Vx)"
   ]
  },
  {
   "cell_type": "code",
   "execution_count": 16,
   "metadata": {
    "collapsed": false
   },
   "outputs": [
    {
     "name": "stdout",
     "output_type": "stream",
     "text": [
      "[array([0, 0, 0]), array([0, 0]), array([0, 0, 0, 0]), array([1, 1, 1]), array([1, 1])]\n",
      "[array([0, 0]), array([0, 0]), array([0]), array([1, 1]), array([1])]\n",
      "[array([0, 1]), array([0, 1]), array([1]), array([1, 0]), array([1])]\n"
     ]
    }
   ],
   "source": [
    "# うまくトピック割り当てができているし\n",
    "# 付加情報 \"TOREAD\" はノイズと判別されている\n",
    "#この出力における数字はトピック番号であり，単語IDや補助情報IDとは無関係\n",
    "print nctm.Z #単語のトピック\n",
    "print nctm.Y #付加情報のトピック\n",
    "print nctm.R #ノイズなら0，ノイズでなければ1"
   ]
  },
  {
   "cell_type": "code",
   "execution_count": null,
   "metadata": {
    "collapsed": true
   },
   "outputs": [],
   "source": []
  }
 ],
 "metadata": {
  "kernelspec": {
   "display_name": "py27",
   "language": "python",
   "name": "py27"
  },
  "language_info": {
   "codemirror_mode": {
    "name": "ipython",
    "version": 2
   },
   "file_extension": ".py",
   "mimetype": "text/x-python",
   "name": "python",
   "nbconvert_exporter": "python",
   "pygments_lexer": "ipython2",
   "version": "2.7.13"
  }
 },
 "nbformat": 4,
 "nbformat_minor": 2
}
