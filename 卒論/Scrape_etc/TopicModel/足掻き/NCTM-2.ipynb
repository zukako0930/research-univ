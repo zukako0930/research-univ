{
 "cells": [
  {
   "cell_type": "code",
   "execution_count": 5,
   "metadata": {
    "collapsed": false
   },
   "outputs": [],
   "source": [
    "import sys\n",
    "import notebookutil as nbu\n",
    "sys.meta_path.append(nbu.NotebookFinder())"
   ]
  },
  {
   "cell_type": "code",
   "execution_count": 8,
   "metadata": {
    "collapsed": false
   },
   "outputs": [
    {
     "name": "stdout",
     "output_type": "stream",
     "text": [
      "brand_dict 作成完了\n",
      "17671\n",
      "tag_dict 作成完了\n",
      "各文書のブランドを辞書番号に変換しました\n",
      "各文書の補助情報を辞書番号に変換しました\n",
      "各文書のブランドを辞書番号に変換しました\n",
      "各文書の補助情報を辞書番号に変換しました\n",
      "学習完了\n",
      "トピック変数:nctm.Z\n",
      "補助情報：nctm.Y\n"
     ]
    }
   ],
   "source": [
    "import NCTM_train #NCTM.ipnbを一度実行して読み込み"
   ]
  },
  {
   "cell_type": "code",
   "execution_count": null,
   "metadata": {
    "collapsed": true
   },
   "outputs": [],
   "source": [
    "#ブランドとトピックをペアにする...関数化する?\n",
    "brand_topic=[]\n",
    "for brands, Topics in zip(Coordinates,nctm.Z):\n",
    "    for brand,Topic in zip(brands,Topics):\n",
    "        pair=[brand,Topic]\n",
    "        brand_topic.append(pair)"
   ]
  },
  {
   "cell_type": "code",
   "execution_count": 9,
   "metadata": {
    "collapsed": true
   },
   "outputs": [],
   "source": [
    "def word_topic_pair(wordslist, topicslist):\n",
    "    word_topic_pair=[]\n",
    "    for words, Topics in zip(wordslist, topicslist):\n",
    "        for word,Topic in zip(words,Topics):\n",
    "            pair=[word,Topic]\n",
    "            brand_topic.append(pair)\n",
    "    return word_topic_pair"
   ]
  },
  {
   "cell_type": "code",
   "execution_count": 10,
   "metadata": {
    "collapsed": false
   },
   "outputs": [
    {
     "ename": "NameError",
     "evalue": "name 'Coordinates' is not defined",
     "output_type": "error",
     "traceback": [
      "\u001b[0;31m---------------------------------------------------------------------------\u001b[0m",
      "\u001b[0;31mNameError\u001b[0m                                 Traceback (most recent call last)",
      "\u001b[0;32m<ipython-input-10-469894823b51>\u001b[0m in \u001b[0;36m<module>\u001b[0;34m()\u001b[0m\n\u001b[0;32m----> 1\u001b[0;31m \u001b[0mbrand_topic\u001b[0m\u001b[0;34m=\u001b[0m\u001b[0mword_topic_pair\u001b[0m\u001b[0;34m(\u001b[0m\u001b[0mwordslist\u001b[0m\u001b[0;34m=\u001b[0m\u001b[0mCoordinates\u001b[0m\u001b[0;34m,\u001b[0m\u001b[0mtopicslist\u001b[0m\u001b[0;34m=\u001b[0m\u001b[0mnctm\u001b[0m\u001b[0;34m.\u001b[0m\u001b[0mZ\u001b[0m\u001b[0;34m)\u001b[0m\u001b[0;34m\u001b[0m\u001b[0m\n\u001b[0m",
      "\u001b[0;31mNameError\u001b[0m: name 'Coordinates' is not defined"
     ]
    }
   ],
   "source": [
    "brand_topic=word_topic_pair(wordslist=Coordinates,topicslist=nctm.Z)"
   ]
  },
  {
   "cell_type": "code",
   "execution_count": 14,
   "metadata": {
    "collapsed": false
   },
   "outputs": [
    {
     "ename": "NameError",
     "evalue": "name 'nctm' is not defined",
     "output_type": "error",
     "traceback": [
      "\u001b[0;31m---------------------------------------------------------------------------\u001b[0m",
      "\u001b[0;31mNameError\u001b[0m                                 Traceback (most recent call last)",
      "\u001b[0;32m<ipython-input-14-637ee47a47ac>\u001b[0m in \u001b[0;36m<module>\u001b[0;34m()\u001b[0m\n\u001b[0;32m----> 1\u001b[0;31m \u001b[0mprint\u001b[0m\u001b[0;34m(\u001b[0m\u001b[0mnctm\u001b[0m\u001b[0;34m.\u001b[0m\u001b[0mZ\u001b[0m\u001b[0;34m)\u001b[0m\u001b[0;34m\u001b[0m\u001b[0m\n\u001b[0m",
      "\u001b[0;31mNameError\u001b[0m: name 'nctm' is not defined"
     ]
    }
   ],
   "source": [
    "print(nctm.Z)"
   ]
  },
  {
   "cell_type": "code",
   "execution_count": null,
   "metadata": {
    "collapsed": true
   },
   "outputs": [],
   "source": []
  }
 ],
 "metadata": {
  "kernelspec": {
   "display_name": "zukapy",
   "language": "python",
   "name": "zukapy"
  },
  "language_info": {
   "codemirror_mode": {
    "name": "ipython",
    "version": 3
   },
   "file_extension": ".py",
   "mimetype": "text/x-python",
   "name": "python",
   "nbconvert_exporter": "python",
   "pygments_lexer": "ipython3",
   "version": "3.5.2"
  }
 },
 "nbformat": 4,
 "nbformat_minor": 2
}
