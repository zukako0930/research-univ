{
 "cells": [
  {
   "cell_type": "code",
   "execution_count": 2,
   "metadata": {
    "collapsed": false
   },
   "outputs": [
    {
     "ename": "ImportError",
     "evalue": "dlopen(./corr_lda.so, 2): no suitable image found.  Did find:\n\t./corr_lda.so: unknown file type, first eight bytes: 0x7F 0x45 0x4C 0x46 0x02 0x01 0x01 0x00\n\t/Users/Koki/Desktop/python2/CorrLDA-master/corr_lda.so: unknown file type, first eight bytes: 0x7F 0x45 0x4C 0x46 0x02 0x01 0x01 0x00",
     "output_type": "error",
     "traceback": [
      "\u001b[0;31m---------------------------------------------------------------------------\u001b[0m",
      "\u001b[0;31mImportError\u001b[0m                               Traceback (most recent call last)",
      "\u001b[0;32m<ipython-input-2-9c183032a24c>\u001b[0m in \u001b[0;36m<module>\u001b[0;34m()\u001b[0m\n\u001b[1;32m      6\u001b[0m \u001b[0;32mfrom\u001b[0m \u001b[0md_profile\u001b[0m \u001b[0;32mimport\u001b[0m \u001b[0mprofile\u001b[0m\u001b[0;34m\u001b[0m\u001b[0m\n\u001b[1;32m      7\u001b[0m \u001b[0;32mfrom\u001b[0m \u001b[0mscipy\u001b[0m \u001b[0;32mimport\u001b[0m \u001b[0mspecial\u001b[0m\u001b[0;34m\u001b[0m\u001b[0m\n\u001b[0;32m----> 8\u001b[0;31m \u001b[0;32mfrom\u001b[0m \u001b[0mcorr_lda\u001b[0m \u001b[0;32mimport\u001b[0m \u001b[0mCorrLDA\u001b[0m\u001b[0;34m\u001b[0m\u001b[0m\n\u001b[0m\u001b[1;32m      9\u001b[0m \u001b[0;34m\u001b[0m\u001b[0m\n\u001b[1;32m     10\u001b[0m \u001b[0;31m#SET PARAMETER\u001b[0m\u001b[0;34m\u001b[0m\u001b[0;34m\u001b[0m\u001b[0m\n",
      "\u001b[0;31mImportError\u001b[0m: dlopen(./corr_lda.so, 2): no suitable image found.  Did find:\n\t./corr_lda.so: unknown file type, first eight bytes: 0x7F 0x45 0x4C 0x46 0x02 0x01 0x01 0x00\n\t/Users/Koki/Desktop/python2/CorrLDA-master/corr_lda.so: unknown file type, first eight bytes: 0x7F 0x45 0x4C 0x46 0x02 0x01 0x01 0x00"
     ]
    }
   ],
   "source": [
    "#! usr/bin/python\n",
    "# coding: utf-8\n",
    "import os\n",
    "import math\n",
    "import numpy as np\n",
    "from d_profile import profile\n",
    "from scipy import special\n",
    "from corr_lda import CorrLDA\n",
    "\n",
    "#SET PARAMETER\n",
    "K = 50\n",
    "repeat = 200\n",
    "alpha = 50.0 / K \n",
    "beta = 0.1\n",
    "eta = 0.5\n",
    "lam = 0.5\n",
    "save_step = 50\n",
    "\n",
    "os.chdir('./sample/data')\n",
    "qiita_voc = 'vocab.qiita.txt'\n",
    "qiita_doc = 'docword.qiita.txt'\n",
    "tag_voc =  'tag.qiita.txt'\n",
    "tag_doc =  'doctag.qiita.txt'\n",
    "\n",
    "lda = CorrLDA(K, alpha, beta, eta, lam)\n",
    "vdict = lda.make_dict(qiita_voc)\n",
    "sdict = lda.make_dict(tag_voc)\n",
    "lda.set_corpus(qiita_doc)\n",
    "lda.set_supply(tag_doc)\n",
    "\n",
    "#OUTPUT PARAMETER\n",
    "Rank = 10\n",
    "\n",
    "os.chdir('../output')\n",
    "fwname = \"result\"\n",
    "pfile = open(\"perplexity.txt\",\"w\")\n",
    "\n",
    "print 'start iteration'\n",
    "for re in range(repeat):\n",
    "    perplexity = lda.inference()\n",
    "    wline = str(re + 1) + ' ' + str(perplexity) + \"\\n\"\n",
    "    pfile.write(wline)\n",
    "    print wline[:-1]\n",
    "    if (re + 1) % save_step == 0:\n",
    "        lda.save(fwname, vdict, re + 1, Rank)\n",
    "        lda.save_supply(fwname, sdict, re + 1, Rank)\n",
    "pfile.close()"
   ]
  },
  {
   "cell_type": "code",
   "execution_count": null,
   "metadata": {
    "collapsed": true
   },
   "outputs": [],
   "source": []
  }
 ],
 "metadata": {
  "kernelspec": {
   "display_name": "py27",
   "language": "python",
   "name": "py27"
  },
  "language_info": {
   "codemirror_mode": {
    "name": "ipython",
    "version": 2
   },
   "file_extension": ".py",
   "mimetype": "text/x-python",
   "name": "python",
   "nbconvert_exporter": "python",
   "pygments_lexer": "ipython2",
   "version": "2.7.13"
  }
 },
 "nbformat": 4,
 "nbformat_minor": 2
}
